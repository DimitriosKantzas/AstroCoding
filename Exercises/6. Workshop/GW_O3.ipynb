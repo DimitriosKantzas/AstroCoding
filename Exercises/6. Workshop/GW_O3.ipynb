{
 "cells": [
  {
   "cell_type": "markdown",
   "metadata": {},
   "source": [
    "# Tρίτος κύκλος λειτουργίας (Ο3) του LIGO-Virgo\n",
    "Παρακάτω δίνονται κάποια από τα στοιχεία των γεγονότων που παρατηρήθηκαν. Πιο συγκεκριμένα, δίνονται οι ονομασίες των γεγονότων, η μάζα του πρωτεύοντος αντικειμένου, η μάζα του δευτερεύοντος αντικειμένου και η μάζα του τελικού αντικειμένου μετά τη συγχώνευση."
   ]
  },
  {
   "cell_type": "markdown",
   "metadata": {},
   "source": [
    "## Some comments to keep in mind:\n",
    "**GW190412**: unequal masses with mass ratio q ~ 3, first black hole merger with asymmetric masses\\\n",
    "**GW190425**: Binary Neutron Star\\\n",
    "**GW190521**: the most massive, Intermediate mass black-holes\\\n",
    "**GW190814**: a mysterious compact object, What was the second object?"
   ]
  },
  {
   "cell_type": "code",
   "execution_count": 1,
   "metadata": {},
   "outputs": [],
   "source": [
    "import math"
   ]
  },
  {
   "cell_type": "code",
   "execution_count": 2,
   "metadata": {},
   "outputs": [],
   "source": [
    "def print_NSorBH(m):\n",
    "    '''Τυπώνει αν ένα σώμα είναι Αστέρας Νετρονίων ή Μελανή Οπή αναλόγως τη μάζα m που περνάμε.'''\n",
    "    if m<2.5:\n",
    "        print('Άρα πρόκειται για Αστέρα Νετρονίων!')\n",
    "    else:\n",
    "        print('Άρα πρόκειται για Μελανή Οπή!')\n",
    "    pass"
   ]
  },
  {
   "cell_type": "markdown",
   "metadata": {},
   "source": [
    "## Ονομασίες των γεγονότων \n",
    "Το όνομα κάθε γεγονότος δίνεται από την ημερομηνία παρατήρησης. Συνεπώς, το γεγονός GW191224 για παράδειγμα είναι εκείνο που παρατηρήθηκε στις 2019/12/24 (έτος/μήνας/ημέρα). Για μεγαλύτερη ακρίβεια, πολλές φορές στο όνομα συμπληρώνεται και η ώρα παρατήρησης σε ώρα, λεπτά, δευτερόλεπτα (ΩΩΛΛΔΔ)."
   ]
  },
  {
   "cell_type": "code",
   "execution_count": 3,
   "metadata": {},
   "outputs": [],
   "source": [
    "names = ('GW190408_181802', 'GW190412',        'GW190413_052954', 'GW190413_134308', 'GW190421_213856', 'GW190424_180648',\n",
    "         'GW190425',        'GW190426_152155', 'GW190503_185404', 'GW190512_180714', 'GW190513_205428', 'GW190514_065416', \n",
    "         'GW190517_055101', 'GW190519_153544', 'GW190521',        'GW190521_074359', 'GW190527_092055', 'GW190602_175927', \n",
    "         'GW190620_030421', 'GW190630_185205', 'GW190701_203306', 'GW190706_222641', 'GW190707_093326', 'GW190708_232457', \n",
    "         'GW190719_215514', 'GW190720_000836', 'GW190727_060333', 'GW190728_064510', 'GW190731_140936', 'GW190803_022701', \n",
    "         'GW190814',        'GW190828_063405', 'GW190828_065509', 'GW190909_114149', 'GW190910_112807', 'GW190915_235702', \n",
    "         'GW190924_021846', 'GW190929_012149', 'GW190930_133541'\n",
    "        )"
   ]
  },
  {
   "cell_type": "markdown",
   "metadata": {},
   "source": [
    "## Μάζες των αντικειμένων"
   ]
  },
  {
   "cell_type": "markdown",
   "metadata": {},
   "source": [
    "### Πρωτεύον αντικείμενο\n",
    "Η μάζα του πρωτεύοντος συμπαγούς αντικειμένου (primary compact object) σε Ηλιακές μάζες"
   ]
  },
  {
   "cell_type": "code",
   "execution_count": 4,
   "metadata": {},
   "outputs": [],
   "source": [
    "m1=(24.6, 30.1, 34.7, 47.5, 41.3, 40.5, \n",
    "    2.0,  5.7,  43.3, 23.3, 35.7, 39.0, \n",
    "    37.4, 66.0, 95.3, 42.2, 36.5, 69.1, \n",
    "    57.1, 35.1, 53.9, 67.0, 11.6, 17.6, \n",
    "    36.5, 13.4, 38.0, 12.3, 41.5, 37.3, \n",
    "    23.2, 32.1, 24.1, 45.8, 43.9, 35.3, \n",
    "    8.9,  80.8, 12.3\n",
    "   ) #in solar masses"
   ]
  },
  {
   "cell_type": "markdown",
   "metadata": {},
   "source": [
    "## Δευτερεύον αντικείμενο\n",
    "Η μάζα του δευτερεύοντος συμπαγούς αντικειμένου (secondary compact object) σε Ηλιακές μάζες"
   ]
  },
  {
   "cell_type": "code",
   "execution_count": 5,
   "metadata": {},
   "outputs": [],
   "source": [
    "m2 = (18.4, 8.3,  23.7, 31.8, 31.9, 31.8, \n",
    "      1.4,  1.5,  28.4, 12.6, 18.0, 28.4, \n",
    "      25.3, 40.5, 69.0, 32.8, 22.6, 47.8, \n",
    "      35.5, 23.7, 40.8, 38.2, 8.4,  13.2, \n",
    "      20.8, 7.8,  29.4, 8.1,  28.8, 27.3, \n",
    "      2.59, 26.2, 10.2, 28.3, 35.6, 24.4, \n",
    "      5.0,  24.1, 7.8\n",
    "    ) #in solar masses"
   ]
  },
  {
   "cell_type": "markdown",
   "metadata": {},
   "source": [
    "## Τελικό αντικείμενο\n",
    "Η μάζα του τελικού συμπαγούς αντικειμένου μετά τη συγχώνευση (σε Ηλιακές μάζες). Όταν δεν μπορεί να υπολογισθεί με ακρίβεια η μάζα χρησιμοποιούμε ```NaN```"
   ]
  },
  {
   "cell_type": "code",
   "execution_count": 6,
   "metadata": {},
   "outputs": [],
   "source": [
    "Mf = (41.1, 37.3,  56.0,  75.5, 69.7,  68.9, \n",
    "      math.nan, math.nan,  68.6,  34.5, 51.6,  64.5, \n",
    "      59.3, 101.0, 156.3, 71.0, 56.4,  110.9, \n",
    "      87.2, 56.4,  90.2,  99.0, 19.2,  29.5, \n",
    "      54.9, 20.4,  63.8,  19.6, 67.0,  61.7,\n",
    "      25.6, 54.9,  33.1,  72.0, 75.8,  57.2, \n",
    "      13.3, 101.5, 19.4\n",
    "    )#in solar masses"
   ]
  },
  {
   "cell_type": "markdown",
   "metadata": {},
   "source": [
    "### Φτιάχνουμε μια λίστα με dictionaries για κάθε ένα από τα γεγονότα"
   ]
  },
  {
   "cell_type": "code",
   "execution_count": 7,
   "metadata": {},
   "outputs": [],
   "source": [
    "O3 =[]\n",
    "for i in range(len(names)):\n",
    "    O3.append({'name': names[i], 'm1': m1[i], 'm2': m2[i], 'Mf': Mf[i]})"
   ]
  },
  {
   "cell_type": "markdown",
   "metadata": {},
   "source": [
    "## Ασκήσεις\n",
    "---"
   ]
  },
  {
   "cell_type": "markdown",
   "metadata": {},
   "source": [
    "### Υπάρχουν δυο γεγονότα την ίδια μέρα, και αν ναι ποια είναι αυτά;"
   ]
  },
  {
   "cell_type": "code",
   "execution_count": 8,
   "metadata": {},
   "outputs": [
    {
     "name": "stdout",
     "output_type": "stream",
     "text": [
      "\n",
      " Το GW190413_052954 συνέβη την ίδια ημέρα με το GW190413_134308.\n",
      "\n",
      " Το        GW190521 συνέβη την ίδια ημέρα με το GW190521_074359.\n",
      "\n",
      " Το GW190828_063405 συνέβη την ίδια ημέρα με το GW190828_065509.\n",
      "\n",
      "Συνολικά  3  φορές παρατηρήθηκε πάνω από μια συγχώνευση την ίδια ημέρα.\n"
     ]
    }
   ],
   "source": [
    "CountSameDay=0\n",
    "for i in range(len(names)-1):\n",
    "    if names[i][:8] not in names[i+1][:8]:\n",
    "        continue\n",
    "    else:\n",
    "        CountSameDay+=1\n",
    "        print('\\n Το %15s συνέβη την ίδια ημέρα με το %15s.'%(names[i],names[i+1]))\n",
    "print('\\nΣυνολικά  %i  φορές παρατηρήθηκε πάνω από μια συγχώνευση την ίδια ημέρα.' %CountSameDay)"
   ]
  },
  {
   "cell_type": "markdown",
   "metadata": {},
   "source": [
    "### Ποιο είναι το ελαφρύτερο πρωτεύον συμπαγές σώμα; Είναι Αστέρας Νετρονίων ή Μελανή Οπή;"
   ]
  },
  {
   "cell_type": "code",
   "execution_count": 9,
   "metadata": {},
   "outputs": [
    {
     "name": "stdout",
     "output_type": "stream",
     "text": [
      "\n",
      "Το ελαφρύτερο πρωτεύον αντικείμενο είναι αυτό της συγχώνευσης  GW190425  και έχει μάζα ίση με 2.0 ηλιακές μάζες.\n",
      "Άρα πρόκειται για Αστέρα Νετρονίων!\n"
     ]
    }
   ],
   "source": [
    "min_m1 = min(m1)\n",
    "print('\\nΤο ελαφρύτερο πρωτεύον αντικείμενο είναι αυτό της συγχώνευσης  %s  και έχει μάζα ίση με %.1f ηλιακές μάζες.'\n",
    "      %(names[m1.index(min_m1)],min_m1))  \n",
    "print_NSorBH(min_m1)"
   ]
  },
  {
   "cell_type": "markdown",
   "metadata": {},
   "source": [
    "### Ποιο είναι το βαρύτερο πρωτεύον συμπαγές σώμα; Είναι Αστέρας Νετρονίων ή Μελανή Οπή;"
   ]
  },
  {
   "cell_type": "code",
   "execution_count": 10,
   "metadata": {},
   "outputs": [
    {
     "name": "stdout",
     "output_type": "stream",
     "text": [
      "\n",
      "Το βαρύτερο πρωτεύον αντικείμενο είναι αυτό της συγχώνευσης  GW190521  και έχει μάζα ίση με 95.3 ηλιακές μάζες.\n",
      "Άρα πρόκειται για Μελανή Οπή!\n"
     ]
    }
   ],
   "source": [
    "max_m1 = max(m1)\n",
    "print('\\nΤο βαρύτερο πρωτεύον αντικείμενο είναι αυτό της συγχώνευσης  %s  και έχει μάζα ίση με %.1f ηλιακές μάζες.'\n",
    "      %(names[m1.index(max_m1)],max_m1))  \n",
    "print_NSorBH(max_m1)"
   ]
  },
  {
   "cell_type": "markdown",
   "metadata": {},
   "source": [
    "### Ποιο είναι το ελαφρύτερο δευτερεύον συμπαγές σώμα; Είναι Αστέρας Νετρονίων ή Μελανή Οπή;"
   ]
  },
  {
   "cell_type": "code",
   "execution_count": 11,
   "metadata": {},
   "outputs": [
    {
     "name": "stdout",
     "output_type": "stream",
     "text": [
      "\n",
      "Το ελαφρύτερο δευτερεύον αντικείμενο είναι αυτό της συγχώνευσης  GW190425  και έχει μάζα ίση με 1.4 ηλιακές μάζες.\n",
      "Άρα πρόκειται για Αστέρα Νετρονίων!\n"
     ]
    }
   ],
   "source": [
    "min_m2 = min(m2)\n",
    "print('\\nΤο ελαφρύτερο δευτερεύον αντικείμενο είναι αυτό της συγχώνευσης  %s  και έχει μάζα ίση με %.1f ηλιακές μάζες.'\n",
    "      %(names[m2.index(min_m2)],min_m2))\n",
    "print_NSorBH(min_m2)"
   ]
  },
  {
   "cell_type": "markdown",
   "metadata": {},
   "source": [
    "### Ποιο είναι το βαρύτερο δευτερεύον συμπαγές σώμα; Είναι Αστέρας Νετρονίων ή Μελανή Οπή;"
   ]
  },
  {
   "cell_type": "code",
   "execution_count": 12,
   "metadata": {},
   "outputs": [
    {
     "name": "stdout",
     "output_type": "stream",
     "text": [
      "\n",
      "Το βαρύτερο δευτερεύον αντικείμενο είναι αυτό της συγχώνευσης  GW190521  και έχει μάζα ίση με 69.0 ηλιακές μάζες.\n",
      "Άρα πρόκειται για Μελανή Οπή!\n"
     ]
    }
   ],
   "source": [
    "max_m2 = max(m2)\n",
    "print('\\nΤο βαρύτερο δευτερεύον αντικείμενο είναι αυτό της συγχώνευσης  %s  και έχει μάζα ίση με %.1f ηλιακές μάζες.'\n",
    "      %(names[m2.index(max_m2)],max_m2))\n",
    "print_NSorBH(max_m2)"
   ]
  },
  {
   "cell_type": "markdown",
   "metadata": {},
   "source": [
    "### Ποιο είναι το ελαφρύτερο τελικό συμπαγές σώμα; Είναι Αστέρας Νετρονίων ή Μελανή Οπή;"
   ]
  },
  {
   "cell_type": "code",
   "execution_count": 13,
   "metadata": {},
   "outputs": [
    {
     "name": "stdout",
     "output_type": "stream",
     "text": [
      "\n",
      "Το ελαφρύτερο τελικό αντικείμενο είναι αυτό της συγχώνευσης  GW190924_021846  και έχει μάζα ίση με 13.3 ηλιακές μάζες.\n",
      "Άρα πρόκειται για Μελανή Οπή!\n"
     ]
    }
   ],
   "source": [
    "min_Mf = min(Mf)\n",
    "print('\\nΤο ελαφρύτερο τελικό αντικείμενο είναι αυτό της συγχώνευσης  %s  και έχει μάζα ίση με %.1f ηλιακές μάζες.'\n",
    "      %(names[Mf.index(min_Mf)],min_Mf))\n",
    "print_NSorBH(min_Mf)"
   ]
  },
  {
   "cell_type": "markdown",
   "metadata": {},
   "source": [
    "### Ποιο είναι το βαρύτερο τελικό συμπαγές σώμα; Είναι Αστέρας Νετρονίων ή Μελανή Οπή;"
   ]
  },
  {
   "cell_type": "code",
   "execution_count": 14,
   "metadata": {},
   "outputs": [
    {
     "name": "stdout",
     "output_type": "stream",
     "text": [
      "\n",
      "Το βαρύτερο τελικό αντικείμενο είναι αυτό της συγχώνευσης  GW190521  και έχει μάζα ίση με 156.3 ηλιακές μάζες.\n",
      "Άρα πρόκειται για Μελανή Οπή!\n"
     ]
    }
   ],
   "source": [
    "max_Mf = max(Mf)\n",
    "print('\\nΤο βαρύτερο τελικό αντικείμενο είναι αυτό της συγχώνευσης  %s  και έχει μάζα ίση με %.1f ηλιακές μάζες.'\n",
    "      %(names[Mf.index(max_Mf)],max_Mf))\n",
    "print_NSorBH(max_Mf)"
   ]
  },
  {
   "cell_type": "markdown",
   "metadata": {},
   "source": [
    "### Υπάρχουν γεγονότα με λόγο μάζας πρωτεύοντος προς μάζα δευτερεύοντος αντικειμένου μεγαλύτερο από 2;\n",
    "Μέχρι και τη δεύτερη φάση των LIGO/Virgo είχαν παρατηρηθεί συγχωνεύσεις συμπαγών αντικειμένων που ο λόγος των μαζών τους δεν ξερπερνούσε το 2. Δηλαδή το πρωτεύον συμπαγές αντικείμενο ήταν το πολύ δυο φορές βαρύτερο από το δευτερογενές. Ισχύει η ίδια παρατήρηση και για τον τρίτο κύκλο παρατηρήσεων;"
   ]
  },
  {
   "cell_type": "code",
   "execution_count": 15,
   "metadata": {},
   "outputs": [],
   "source": [
    "ratio = [] #ο λόγος των μαζών των αρχικών αντικειμένων, δλδ m1/m2\n",
    "for i in range(len(m1)):\n",
    "    ratio.append(m1[i]/m2[i]) #η συνάρτηση append() προσθέτει στη λίστα ratio το λόγο m1/m2 για κάθε μια από τις συγωνε΄ύσεις. "
   ]
  },
  {
   "cell_type": "code",
   "execution_count": 16,
   "metadata": {},
   "outputs": [
    {
     "name": "stdout",
     "output_type": "stream",
     "text": [
      "\n",
      "Υπάρχουν  5  γεγονότα με λόγο μαζών μεγαλύτερο από 2!\n"
     ]
    }
   ],
   "source": [
    "CountHighRatio=0\n",
    "RatioIndex = []\n",
    "for r in enumerate(ratio):\n",
    "    if r[1]<2.:\n",
    "        continue\n",
    "    else:\n",
    "        CountHighRatio+=1\n",
    "        RatioIndex.append(r[0])\n",
    "        \n",
    "print('\\nΥπάρχουν  %i  γεγονότα με λόγο μαζών μεγαλύτερο από 2!' %CountHighRatio)"
   ]
  },
  {
   "cell_type": "markdown",
   "metadata": {},
   "source": [
    "### Αν υπάρχουν γεγονότα με λόγο μαζών μεγαλύτερο του 2, εξετάστε τα πιο εμπεριστατωμένα.\n",
    "Τυπώστε δηλαλή όλες τις μάζες αυτών των συστημάτων και βάσει των όσων είπαμε στο μάθημα σκεφτείτε αν αυτές οι μάζες εξηγούνται με τις θεωρίες που έχουμε ως τώρα."
   ]
  },
  {
   "cell_type": "code",
   "execution_count": 17,
   "metadata": {},
   "outputs": [
    {
     "name": "stdout",
     "output_type": "stream",
     "text": [
      "\n",
      "To σύστημα         GW190412  είχε πρωτεύον σώμα μάζας  30.1, δευτερεύον σώμα μάζας  8.3 και συγχωνεύτηκε σε σώμα μάζας  37.3 ηλιακών μαζών.\n",
      "\n",
      "To σύστημα  GW190426_152155  είχε πρωτεύον σώμα μάζας  5.7, δευτερεύον σώμα μάζας  1.5 και συγχωνεύτηκε σε σώμα μάζας  nan ηλιακών μαζών.\n",
      "\n",
      "To σύστημα         GW190814  είχε πρωτεύον σώμα μάζας  23.2, δευτερεύον σώμα μάζας  2.6 και συγχωνεύτηκε σε σώμα μάζας  25.6 ηλιακών μαζών.\n",
      "\n",
      "To σύστημα  GW190828_065509  είχε πρωτεύον σώμα μάζας  24.1, δευτερεύον σώμα μάζας  10.2 και συγχωνεύτηκε σε σώμα μάζας  33.1 ηλιακών μαζών.\n",
      "\n",
      "To σύστημα  GW190929_012149  είχε πρωτεύον σώμα μάζας  80.8, δευτερεύον σώμα μάζας  24.1 και συγχωνεύτηκε σε σώμα μάζας  101.5 ηλιακών μαζών.\n"
     ]
    }
   ],
   "source": [
    "for i in RatioIndex:\n",
    "    print('\\nTo σύστημα  %15s  είχε πρωτεύον σώμα μάζας  %.1f, δευτερεύον σώμα μάζας  %.1f και συγχωνεύτηκε σε σώμα μάζας  %.1f ηλιακών μαζών.'\\\n",
    "          %(names[i],m1[i],m2[i],Mf[i]))"
   ]
  },
  {
   "cell_type": "markdown",
   "metadata": {},
   "source": [
    "### Πόσα συστήματα συγνώνευσης Αστέρα Νετρονίων με Μελανή Οπή παρατηρήθηκαν;\n",
    "Εξετάστε δηλαδή αν η μάζα του πρωτεύοντος σώματος είναι μεγαλύτερη των 5 ηλιακών μαζών (αν είναι δηλαδή Μελανή Οπή) και αν η μάζα του δευτερεύοντος είναι μικρότερη από 2.5 ηλιακές μάζας (αν είναι δηλαδή Αστέρας Νετρονίων). "
   ]
  },
  {
   "cell_type": "code",
   "execution_count": 18,
   "metadata": {},
   "outputs": [
    {
     "name": "stdout",
     "output_type": "stream",
     "text": [
      "\n",
      "Συνολικά παρατηρήθηκαν  1  συγχωνεύσεις Μελανής Οπής με Αστέρα Νετρονίων.\n",
      "\n"
     ]
    }
   ],
   "source": [
    "CountNSBH=0\n",
    "for i in range(len(m1)):\n",
    "    if m1[i]>=5. and m2[i]<=2.5:\n",
    "        CountNSBH+=1\n",
    "        IndexNSBH=i\n",
    "print('\\nΣυνολικά παρατηρήθηκαν  %i  συγχωνεύσεις Μελανής Οπής με Αστέρα Νετρονίων.\\n' %CountNSBH)"
   ]
  },
  {
   "cell_type": "code",
   "execution_count": 19,
   "metadata": {},
   "outputs": [
    {
     "name": "stdout",
     "output_type": "stream",
     "text": [
      "\n",
      "Η μοναδική συγχώνευση Μελανής Οπής με Αστέρα Νετρονίων είναι αυτή του συστήματος GW190426_152155.\n",
      "\n"
     ]
    }
   ],
   "source": [
    "print('\\nΗ μοναδική συγχώνευση Μελανής Οπής με Αστέρα Νετρονίων είναι αυτή του συστήματος %s.\\n'%names[IndexNSBH])"
   ]
  },
  {
   "cell_type": "markdown",
   "metadata": {},
   "source": [
    "### Πόσα συστήματα συγχώνευσης Μελανής Οπής με Μελανή Οπή παρατηρήθηκαν;"
   ]
  },
  {
   "cell_type": "code",
   "execution_count": 20,
   "metadata": {},
   "outputs": [
    {
     "name": "stdout",
     "output_type": "stream",
     "text": [
      "\n",
      "Συνολικά παρατηρήθηκαν  36  συγχωνεύσεις Μελανής Οπής με Μελανή Οπή.\n",
      "\n"
     ]
    }
   ],
   "source": [
    "CountBHBH=0\n",
    "for i in range(len(m1)):\n",
    "    if m1[i]>=5. and m2[i]>=5.:\n",
    "        CountBHBH+=1\n",
    "\n",
    "print('\\nΣυνολικά παρατηρήθηκαν  %i  συγχωνεύσεις Μελανής Οπής με Μελανή Οπή.\\n' %CountBHBH)"
   ]
  },
  {
   "cell_type": "markdown",
   "metadata": {},
   "source": [
    "### Πόσα συστήματα συγχώνευσης Αστέρα Νετρονίων με Αστέρα Νετρονίων παρατηρήθηκαν;"
   ]
  },
  {
   "cell_type": "code",
   "execution_count": 21,
   "metadata": {},
   "outputs": [
    {
     "name": "stdout",
     "output_type": "stream",
     "text": [
      "\n",
      "Συνολικά παρατηρήθηκαν  1  συγχωνεύσεις Αστέρα Νετρονίων με Αστέρα Νετρονίων.\n",
      "\n"
     ]
    }
   ],
   "source": [
    "CountNSNS=0\n",
    "for i in range(len(m1)):\n",
    "    if m1[i]<=2.5 and m2[i]<=2.5:\n",
    "        CountNSNS+=1\n",
    "\n",
    "print('\\nΣυνολικά παρατηρήθηκαν  %i  συγχωνεύσεις Αστέρα Νετρονίων με Αστέρα Νετρονίων.\\n' %CountNSNS)"
   ]
  },
  {
   "cell_type": "markdown",
   "metadata": {},
   "source": [
    "### Πόσες συγχωνεύσεις NSNS, BHBH και NSBH υπολογίσατε; Πόσα συστήματα μετρησε συνολικά το LIGO/Virgo;\n",
    "Παρατηρείτε κάτι περίεργο;"
   ]
  },
  {
   "cell_type": "code",
   "execution_count": 22,
   "metadata": {},
   "outputs": [
    {
     "name": "stdout",
     "output_type": "stream",
     "text": [
      "\n",
      "Συνολικά υπολογίσαμε  38 συγχωνεύσεις και το LIGO/Virgo είχε παρατηρήσει 39 συγχωνεύσεις.\n",
      "\n"
     ]
    }
   ],
   "source": [
    "print('\\nΣυνολικά υπολογίσαμε  %i συγχωνεύσεις και το LIGO/Virgo είχε παρατηρήσει %i συγχωνεύσεις.\\n' %(CountBHBH+CountNSBH+CountNSNS,len(m1)))"
   ]
  },
  {
   "cell_type": "markdown",
   "metadata": {},
   "source": [
    "### Πόσα συστήματα έχουν δευτερεύον σώμα με αρχική μάζα μετάξύ 2.5 και 5 ηλιακών μαζών;"
   ]
  },
  {
   "cell_type": "code",
   "execution_count": 23,
   "metadata": {},
   "outputs": [
    {
     "name": "stdout",
     "output_type": "stream",
     "text": [
      "\n",
      "Συνολικά υπάρχουν 1 συστήματα που ίσως είχαν αντικείμενο στο χαμηλότερο κενό των μαζών (mass gap)\n"
     ]
    }
   ],
   "source": [
    "CountLowerMassGap=0\n",
    "for i in range(len(m1)):\n",
    "    if 2.5<=m1[i]<5. or 2.5<=m2[i]<5.:\n",
    "        CountLowerMassGap+=1\n",
    "print('\\nΣυνολικά υπάρχουν %i συστήματα που ίσως είχαν αντικείμενο στο χαμηλότερο κενό των μαζών (mass gap)' %CountLowerMassGap)"
   ]
  },
  {
   "cell_type": "markdown",
   "metadata": {},
   "source": [
    "### Υπάρχουν γεγονότα με αρχικές μάζες άνω των 60 ηλιακών μαζών; Πόσα είναι αυτά;"
   ]
  },
  {
   "cell_type": "code",
   "execution_count": 24,
   "metadata": {},
   "outputs": [
    {
     "name": "stdout",
     "output_type": "stream",
     "text": [
      "\n",
      "Υπάρχουν  5 πρωτεύοντα και  1 δευτερεύοντα σώματα με μάζα μεγαλύτερη των 60 ηλιακών μαζών\n"
     ]
    }
   ],
   "source": [
    "CountHigherMassGap_m1,CountHigherMassGap_m2=0,0\n",
    "for i in range(len(m1)):\n",
    "    if m1[i]>=60:\n",
    "        CountHigherMassGap_m1+=1\n",
    "    if m2[i]>=60:\n",
    "        CountHigherMassGap_m2+=1\n",
    "print('\\nΥπάρχουν  %i πρωτεύοντα και  %i δευτερεύοντα σώματα με μάζα μεγαλύτερη των 60 ηλιακών μαζών' %(CountHigherMassGap_m1,CountHigherMassGap_m2))"
   ]
  },
  {
   "cell_type": "code",
   "execution_count": 25,
   "metadata": {},
   "outputs": [
    {
     "name": "stdout",
     "output_type": "stream",
     "text": [
      "\n",
      "Υπάρχουν  1 συστήματα με υπέρμαζα πρωτεύοντα και δευτερεύοντα σώματα.\n",
      "\n"
     ]
    }
   ],
   "source": [
    "CountHigherMassGap=0\n",
    "for i in range(len(m1)):\n",
    "    if m1[i]>=60 and m2[i]>=60:\n",
    "        CountHigherMassGap+=1\n",
    "        IndexHighMassGap=i\n",
    "print('\\nΥπάρχουν  %i συστήματα με υπέρμαζα πρωτεύοντα και δευτερεύοντα σώματα.\\n' %CountHigherMassGap)"
   ]
  },
  {
   "cell_type": "code",
   "execution_count": 26,
   "metadata": {},
   "outputs": [
    {
     "name": "stdout",
     "output_type": "stream",
     "text": [
      "\n",
      "Το σύστημα που είχε υπέρμαζα σώματα είναι το GW190521.\n",
      "Η μάζα του πρωτεύοντα ήταν 95.3 και του δευτερεύοντα ήταν 69.0 ηλιακές μάζες.\n",
      "Οι δυο αυτές Μελανές Οπές κατέληξαν σε μια μάζας 156.3 ηλιακών μαζών.\n",
      "\n"
     ]
    }
   ],
   "source": [
    "print('\\nΤο σύστημα που είχε υπέρμαζα σώματα είναι το %s.'%names[IndexHighMassGap])\n",
    "print('Η μάζα του πρωτεύοντα ήταν %.1f και του δευτερεύοντα ήταν %.1f ηλιακές μάζες.' %(m1[IndexHighMassGap],m2[IndexHighMassGap]))\n",
    "print('Οι δυο αυτές Μελανές Οπές κατέληξαν σε μια μάζας %.1f ηλιακών μαζών.\\n'%Mf[IndexHighMassGap])"
   ]
  },
  {
   "cell_type": "markdown",
   "metadata": {},
   "source": [
    "### Υπολογίστε πόση μάζα χάνεται υπό τη μορφή βαρυτικών κυμάτων για κάθε ένα από τα συστήματα.\n",
    "Δηλαδή προσθέστε τις μάζες m1 και m2, και αφαιρέστε αυτή την τιμή από την τελική μάζα του συμπαγούς αντικειμένου."
   ]
  },
  {
   "cell_type": "code",
   "execution_count": 27,
   "metadata": {},
   "outputs": [],
   "source": [
    "GW_mass=[]\n",
    "for i in range(len(m1)):\n",
    "    GW_mass.append(m1[i]+m2[i]-Mf[i]) "
   ]
  },
  {
   "cell_type": "markdown",
   "metadata": {},
   "source": [
    "### Ποιο σύστημα χάνει την περισσότερη μάζα υπο τη μορφή βαρυτικών κυμάτων;"
   ]
  },
  {
   "cell_type": "code",
   "execution_count": 28,
   "metadata": {},
   "outputs": [
    {
     "name": "stdout",
     "output_type": "stream",
     "text": [
      "\n",
      "Το σύστημα  GW190521 χάνει 8.00 ηλιακές μάζες σε μορφή βαρυτικών κυμάτων.\n",
      "\n"
     ]
    }
   ],
   "source": [
    "max_GW = max(GW_mass)\n",
    "print('\\nΤο σύστημα  %s χάνει %.2f ηλιακές μάζες σε μορφή βαρυτικών κυμάτων.\\n'%(names[GW_mass.index(max_GW)],max_GW))"
   ]
  }
 ],
 "metadata": {
  "kernelspec": {
   "display_name": "Python 3",
   "language": "python",
   "name": "python3"
  },
  "language_info": {
   "codemirror_mode": {
    "name": "ipython",
    "version": 3
   },
   "file_extension": ".py",
   "mimetype": "text/x-python",
   "name": "python",
   "nbconvert_exporter": "python",
   "pygments_lexer": "ipython3",
   "version": "3.6.13"
  }
 },
 "nbformat": 4,
 "nbformat_minor": 4
}
