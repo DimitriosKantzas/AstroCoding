{
 "cells": [
  {
   "cell_type": "code",
   "execution_count": 1,
   "id": "e7b336e1-b18f-4582-88cb-83ba7790d6f4",
   "metadata": {},
   "outputs": [],
   "source": [
    "import numpy as np"
   ]
  },
  {
   "cell_type": "code",
   "execution_count": 2,
   "id": "d17cbf23-6d2a-4ab0-9728-105864b78617",
   "metadata": {},
   "outputs": [],
   "source": [
    "data = np.loadtxt('SN_y_tot_V2.0.txt',usecols=(0,1))"
   ]
  },
  {
   "cell_type": "code",
   "execution_count": 5,
   "id": "04beeef4-ed54-46ed-a059-a656a7361927",
   "metadata": {},
   "outputs": [
    {
     "data": {
      "text/plain": [
       "array([1700.5, 1701.5, 1702.5, 1703.5, 1704.5, 1705.5, 1706.5, 1707.5,\n",
       "       1708.5, 1709.5, 1710.5, 1711.5, 1712.5, 1713.5, 1714.5, 1715.5,\n",
       "       1716.5, 1717.5, 1718.5, 1719.5, 1720.5, 1721.5, 1722.5, 1723.5,\n",
       "       1724.5, 1725.5, 1726.5, 1727.5, 1728.5, 1729.5, 1730.5, 1731.5,\n",
       "       1732.5, 1733.5, 1734.5, 1735.5, 1736.5, 1737.5, 1738.5, 1739.5,\n",
       "       1740.5, 1741.5, 1742.5, 1743.5, 1744.5, 1745.5, 1746.5, 1747.5,\n",
       "       1748.5, 1749.5, 1750.5, 1751.5, 1752.5, 1753.5, 1754.5, 1755.5,\n",
       "       1756.5, 1757.5, 1758.5, 1759.5, 1760.5, 1761.5, 1762.5, 1763.5,\n",
       "       1764.5, 1765.5, 1766.5, 1767.5, 1768.5, 1769.5, 1770.5, 1771.5,\n",
       "       1772.5, 1773.5, 1774.5, 1775.5, 1776.5, 1777.5, 1778.5, 1779.5,\n",
       "       1780.5, 1781.5, 1782.5, 1783.5, 1784.5, 1785.5, 1786.5, 1787.5,\n",
       "       1788.5, 1789.5, 1790.5, 1791.5, 1792.5, 1793.5, 1794.5, 1795.5,\n",
       "       1796.5, 1797.5, 1798.5, 1799.5, 1800.5, 1801.5, 1802.5, 1803.5,\n",
       "       1804.5, 1805.5, 1806.5, 1807.5, 1808.5, 1809.5, 1810.5, 1811.5,\n",
       "       1812.5, 1813.5, 1814.5, 1815.5, 1816.5, 1817.5, 1818.5, 1819.5,\n",
       "       1820.5, 1821.5, 1822.5, 1823.5, 1824.5, 1825.5, 1826.5, 1827.5,\n",
       "       1828.5, 1829.5, 1830.5, 1831.5, 1832.5, 1833.5, 1834.5, 1835.5,\n",
       "       1836.5, 1837.5, 1838.5, 1839.5, 1840.5, 1841.5, 1842.5, 1843.5,\n",
       "       1844.5, 1845.5, 1846.5, 1847.5, 1848.5, 1849.5, 1850.5, 1851.5,\n",
       "       1852.5, 1853.5, 1854.5, 1855.5, 1856.5, 1857.5, 1858.5, 1859.5,\n",
       "       1860.5, 1861.5, 1862.5, 1863.5, 1864.5, 1865.5, 1866.5, 1867.5,\n",
       "       1868.5, 1869.5, 1870.5, 1871.5, 1872.5, 1873.5, 1874.5, 1875.5,\n",
       "       1876.5, 1877.5, 1878.5, 1879.5, 1880.5, 1881.5, 1882.5, 1883.5,\n",
       "       1884.5, 1885.5, 1886.5, 1887.5, 1888.5, 1889.5, 1890.5, 1891.5,\n",
       "       1892.5, 1893.5, 1894.5, 1895.5, 1896.5, 1897.5, 1898.5, 1899.5,\n",
       "       1900.5, 1901.5, 1902.5, 1903.5, 1904.5, 1905.5, 1906.5, 1907.5,\n",
       "       1908.5, 1909.5, 1910.5, 1911.5, 1912.5, 1913.5, 1914.5, 1915.5,\n",
       "       1916.5, 1917.5, 1918.5, 1919.5, 1920.5, 1921.5, 1922.5, 1923.5,\n",
       "       1924.5, 1925.5, 1926.5, 1927.5, 1928.5, 1929.5, 1930.5, 1931.5,\n",
       "       1932.5, 1933.5, 1934.5, 1935.5, 1936.5, 1937.5, 1938.5, 1939.5,\n",
       "       1940.5, 1941.5, 1942.5, 1943.5, 1944.5, 1945.5, 1946.5, 1947.5,\n",
       "       1948.5, 1949.5, 1950.5, 1951.5, 1952.5, 1953.5, 1954.5, 1955.5,\n",
       "       1956.5, 1957.5, 1958.5, 1959.5, 1960.5, 1961.5, 1962.5, 1963.5,\n",
       "       1964.5, 1965.5, 1966.5, 1967.5, 1968.5, 1969.5, 1970.5, 1971.5,\n",
       "       1972.5, 1973.5, 1974.5, 1975.5, 1976.5, 1977.5, 1978.5, 1979.5,\n",
       "       1980.5, 1981.5, 1982.5, 1983.5, 1984.5, 1985.5, 1986.5, 1987.5,\n",
       "       1988.5, 1989.5, 1990.5, 1991.5, 1992.5, 1993.5, 1994.5, 1995.5,\n",
       "       1996.5, 1997.5, 1998.5, 1999.5, 2000.5, 2001.5, 2002.5, 2003.5,\n",
       "       2004.5, 2005.5, 2006.5, 2007.5, 2008.5, 2009.5, 2010.5, 2011.5,\n",
       "       2012.5, 2013.5, 2014.5, 2015.5, 2016.5, 2017.5, 2018.5, 2019.5,\n",
       "       2020.5])"
      ]
     },
     "execution_count": 5,
     "metadata": {},
     "output_type": "execute_result"
    }
   ],
   "source": [
    "data[:,0]"
   ]
  },
  {
   "cell_type": "code",
   "execution_count": 6,
   "id": "9b5000f0-1ccc-4e9d-88d8-ca412835b272",
   "metadata": {},
   "outputs": [],
   "source": [
    "years = ([1700.5, 1701.5, 1702.5, 1703.5, 1704.5, 1705.5, 1706.5, 1707.5, 1708.5, 1709.5, 1710.5, 1711.5, 1712.5, 1713.5, 1714.5, 1715.5,\n",
    "       1716.5, 1717.5, 1718.5, 1719.5, 1720.5, 1721.5, 1722.5, 1723.5, 1724.5, 1725.5, 1726.5, 1727.5, 1728.5, 1729.5, 1730.5, 1731.5,\n",
    "       1732.5, 1733.5, 1734.5, 1735.5, 1736.5, 1737.5, 1738.5, 1739.5, 1740.5, 1741.5, 1742.5, 1743.5, 1744.5, 1745.5, 1746.5, 1747.5,\n",
    "       1748.5, 1749.5, 1750.5, 1751.5, 1752.5, 1753.5, 1754.5, 1755.5, 1756.5, 1757.5, 1758.5, 1759.5, 1760.5, 1761.5, 1762.5, 1763.5,\n",
    "       1764.5, 1765.5, 1766.5, 1767.5, 1768.5, 1769.5, 1770.5, 1771.5, 1772.5, 1773.5, 1774.5, 1775.5, 1776.5, 1777.5, 1778.5, 1779.5,\n",
    "       1780.5, 1781.5, 1782.5, 1783.5, 1784.5, 1785.5, 1786.5, 1787.5, 1788.5, 1789.5, 1790.5, 1791.5, 1792.5, 1793.5, 1794.5, 1795.5,\n",
    "       1796.5, 1797.5, 1798.5, 1799.5, 1800.5, 1801.5, 1802.5, 1803.5, 1804.5, 1805.5, 1806.5, 1807.5, 1808.5, 1809.5, 1810.5, 1811.5,\n",
    "       1812.5, 1813.5, 1814.5, 1815.5, 1816.5, 1817.5, 1818.5, 1819.5, 1820.5, 1821.5, 1822.5, 1823.5, 1824.5, 1825.5, 1826.5, 1827.5,\n",
    "       1828.5, 1829.5, 1830.5, 1831.5, 1832.5, 1833.5, 1834.5, 1835.5, 1836.5, 1837.5, 1838.5, 1839.5, 1840.5, 1841.5, 1842.5, 1843.5,\n",
    "       1844.5, 1845.5, 1846.5, 1847.5, 1848.5, 1849.5, 1850.5, 1851.5, 1852.5, 1853.5, 1854.5, 1855.5, 1856.5, 1857.5, 1858.5, 1859.5,\n",
    "       1860.5, 1861.5, 1862.5, 1863.5, 1864.5, 1865.5, 1866.5, 1867.5, 1868.5, 1869.5, 1870.5, 1871.5, 1872.5, 1873.5, 1874.5, 1875.5,\n",
    "       1876.5, 1877.5, 1878.5, 1879.5, 1880.5, 1881.5, 1882.5, 1883.5, 1884.5, 1885.5, 1886.5, 1887.5, 1888.5, 1889.5, 1890.5, 1891.5,\n",
    "       1892.5, 1893.5, 1894.5, 1895.5, 1896.5, 1897.5, 1898.5, 1899.5, 1900.5, 1901.5, 1902.5, 1903.5, 1904.5, 1905.5, 1906.5, 1907.5,\n",
    "       1908.5, 1909.5, 1910.5, 1911.5, 1912.5, 1913.5, 1914.5, 1915.5, 1916.5, 1917.5, 1918.5, 1919.5, 1920.5, 1921.5, 1922.5, 1923.5,\n",
    "       1924.5, 1925.5, 1926.5, 1927.5, 1928.5, 1929.5, 1930.5, 1931.5, 1932.5, 1933.5, 1934.5, 1935.5, 1936.5, 1937.5, 1938.5, 1939.5,\n",
    "       1940.5, 1941.5, 1942.5, 1943.5, 1944.5, 1945.5, 1946.5, 1947.5, 1948.5, 1949.5, 1950.5, 1951.5, 1952.5, 1953.5, 1954.5, 1955.5,\n",
    "       1956.5, 1957.5, 1958.5, 1959.5, 1960.5, 1961.5, 1962.5, 1963.5, 1964.5, 1965.5, 1966.5, 1967.5, 1968.5, 1969.5, 1970.5, 1971.5,\n",
    "       1972.5, 1973.5, 1974.5, 1975.5, 1976.5, 1977.5, 1978.5, 1979.5, 1980.5, 1981.5, 1982.5, 1983.5, 1984.5, 1985.5, 1986.5, 1987.5,\n",
    "       1988.5, 1989.5, 1990.5, 1991.5, 1992.5, 1993.5, 1994.5, 1995.5, 1996.5, 1997.5, 1998.5, 1999.5, 2000.5, 2001.5, 2002.5, 2003.5,\n",
    "       2004.5, 2005.5, 2006.5, 2007.5, 2008.5, 2009.5, 2010.5, 2011.5, 2012.5, 2013.5, 2014.5, 2015.5, 2016.5, 2017.5, 2018.5, 2019.5,\n",
    "       2020.5])"
   ]
  },
  {
   "cell_type": "code",
   "execution_count": 7,
   "id": "67528321-31d8-44b8-9fd5-b0f803293dbb",
   "metadata": {},
   "outputs": [
    {
     "data": {
      "text/plain": [
       "array([  8.3,  18.3,  26.7,  38.3,  60. ,  96.7,  48.3,  33.3,  16.7,\n",
       "        13.3,   5. ,   0. ,   0. ,   3.3,  18.3,  45. ,  78.3, 105. ,\n",
       "       100. ,  65. ,  46.7,  43.3,  36.7,  18.3,  35. ,  66.7, 130. ,\n",
       "       203.3, 171.7, 121.7,  78.3,  58.3,  18.3,   8.3,  26.7,  56.7,\n",
       "       116.7, 135. , 185. , 168.3, 121.7,  66.7,  33.3,  26.7,   8.3,\n",
       "        18.3,  36.7,  66.7, 100. , 134.8, 139. ,  79.5,  79.7,  51.2,\n",
       "        20.3,  16. ,  17. ,  54. ,  79.3,  90. , 104.8, 143.2, 102. ,\n",
       "        75.2,  60.7,  34.8,  19. ,  63. , 116.3, 176.8, 168. , 136. ,\n",
       "       110.8,  58. ,  51. ,  11.7,  33. , 154.2, 257.3, 209.8, 141.3,\n",
       "       113.5,  64.2,  38. ,  17. ,  40.2, 138.2, 220. , 218.2, 196.8,\n",
       "       149.8, 111. , 100. ,  78.2,  68.3,  35.5,  26.7,  10.7,   6.8,\n",
       "        11.3,  24.2,  56.7,  75. ,  71.8,  79.2,  70.3,  46.8,  16.8,\n",
       "        13.5,   4.2,   0. ,   2.3,   8.3,  20.3,  23.2,  59. ,  76.3,\n",
       "        68.3,  52.9,  38.5,  24.2,   9.2,   6.3,   2.2,  11.4,  28.2,\n",
       "        59.9,  83. , 108.5, 115.2, 117.4,  80.8,  44.3,  13.4,  19.5,\n",
       "        85.8, 192.7, 227.3, 168.7, 143. , 105.5,  63.3,  40.3,  18.1,\n",
       "        25.1,  65.8, 102.7, 166.3, 208.3, 182.5, 126.3, 122. , 102.7,\n",
       "        74.1,  39. ,  12.7,   8.2,  43.4, 104.4, 178.3, 182.2, 146.6,\n",
       "       112.1,  83.5,  89.2,  57.8,  30.7,  13.9,  62.8, 123.6, 232. ,\n",
       "       185.3, 169.2, 110.1,  74.5,  28.3,  18.9,  20.7,   5.7,  10. ,\n",
       "        53.7,  90.5,  99. , 106.1, 105.8,  86.3,  42.4,  21.8,  11.2,\n",
       "        10.4,  11.8,  59.5, 121.7, 142. , 130. , 106.6,  69.4,  43.8,\n",
       "        44.4,  20.2,  15.7,   4.6,   8.5,  40.8,  70.1, 105.5,  90.1,\n",
       "       102.8,  80.9,  73.2,  30.9,   9.5,   6. ,   2.4,  16.1,  79. ,\n",
       "        95. , 173.6, 134.6, 105.7,  62.7,  43.5,  23.7,   9.7,  27.9,\n",
       "        74. , 106.5, 114.7, 129.7, 108.2,  59.4,  35.1,  18.6,   9.2,\n",
       "        14.6,  60.2, 132.8, 190.6, 182.6, 148. , 113. ,  79.2,  50.8,\n",
       "        27.1,  16.1,  55.3, 154.3, 214.7, 193. , 190.7, 118.9,  98.3,\n",
       "        45. ,  20.1,   6.6,  54.2, 200.7, 269.3, 261.7, 225.1, 159. ,\n",
       "        76.4,  53.4,  39.9,  15. ,  22. ,  66.8, 132.9, 150. , 149.4,\n",
       "       148. ,  94.4,  97.6,  54.1,  49.2,  22.5,  18.4,  39.3, 131. ,\n",
       "       220.1, 218.9, 198.9, 162.4,  91. ,  60.5,  20.6,  14.8,  33.9,\n",
       "       123. , 211.1, 191.8, 203.3, 133. ,  76.1,  44.9,  25.1,  11.6,\n",
       "        28.9,  88.3, 136.3, 173.9, 170.4, 163.6,  99.3,  65.3,  45.8,\n",
       "        24.7,  12.6,   4.2,   4.8,  24.9,  80.8,  84.5,  94. , 113.3,\n",
       "        69.8,  39.8,  21.7,   7. ,   3.6,   8.8])"
      ]
     },
     "execution_count": 7,
     "metadata": {},
     "output_type": "execute_result"
    }
   ],
   "source": [
    "data[:,1]"
   ]
  },
  {
   "cell_type": "code",
   "execution_count": 9,
   "id": "ea70916d-aecc-4888-bc67-e3cf23ab8edc",
   "metadata": {},
   "outputs": [],
   "source": [
    "sunspots = ([  8.3,  18.3,  26.7,  38.3,  60. ,  96.7,  48.3,  33.3,  16.7, 13.3,   5. ,   0. ,   0. ,   3.3,  18.3,  45. ,  78.3, 105. ,\n",
    "       100. ,  65. ,  46.7,  43.3,  36.7,  18.3,  35. ,  66.7, 130. , 203.3, 171.7, 121.7,  78.3,  58.3,  18.3,   8.3,  26.7,  56.7,\n",
    "       116.7, 135. , 185. , 168.3, 121.7,  66.7,  33.3,  26.7,   8.3, 18.3,  36.7,  66.7, 100. , 134.8, 139. ,  79.5,  79.7,  51.2,\n",
    "        20.3,  16. ,  17. ,  54. ,  79.3,  90. , 104.8, 143.2, 102. , 75.2,  60.7,  34.8,  19. ,  63. , 116.3, 176.8, 168. , 136. ,\n",
    "       110.8,  58. ,  51. ,  11.7,  33. , 154.2, 257.3, 209.8, 141.3, 113.5,  64.2,  38. ,  17. ,  40.2, 138.2, 220. , 218.2, 196.8,\n",
    "       149.8, 111. , 100. ,  78.2,  68.3,  35.5,  26.7,  10.7,   6.8, 11.3,  24.2,  56.7,  75. ,  71.8,  79.2,  70.3,  46.8,  16.8,\n",
    "        13.5,   4.2,   0. ,   2.3,   8.3,  20.3,  23.2,  59. ,  76.3, 68.3,  52.9,  38.5,  24.2,   9.2,   6.3,   2.2,  11.4,  28.2,\n",
    "        59.9,  83. , 108.5, 115.2, 117.4,  80.8,  44.3,  13.4,  19.5, 85.8, 192.7, 227.3, 168.7, 143. , 105.5,  63.3,  40.3,  18.1,\n",
    "        25.1,  65.8, 102.7, 166.3, 208.3, 182.5, 126.3, 122. , 102.7, 74.1,  39. ,  12.7,   8.2,  43.4, 104.4, 178.3, 182.2, 146.6,\n",
    "       112.1,  83.5,  89.2,  57.8,  30.7,  13.9,  62.8, 123.6, 232. , 185.3, 169.2, 110.1,  74.5,  28.3,  18.9,  20.7,   5.7,  10. ,\n",
    "        53.7,  90.5,  99. , 106.1, 105.8,  86.3,  42.4,  21.8,  11.2, 10.4,  11.8,  59.5, 121.7, 142. , 130. , 106.6,  69.4,  43.8,\n",
    "        44.4,  20.2,  15.7,   4.6,   8.5,  40.8,  70.1, 105.5,  90.1, 102.8,  80.9,  73.2,  30.9,   9.5,   6. ,   2.4,  16.1,  79. ,\n",
    "        95. , 173.6, 134.6, 105.7,  62.7,  43.5,  23.7,   9.7,  27.9, 74. , 106.5, 114.7, 129.7, 108.2,  59.4,  35.1,  18.6,   9.2,\n",
    "        14.6,  60.2, 132.8, 190.6, 182.6, 148. , 113. ,  79.2,  50.8, 27.1,  16.1,  55.3, 154.3, 214.7, 193. , 190.7, 118.9,  98.3,\n",
    "        45. ,  20.1,   6.6,  54.2, 200.7, 269.3, 261.7, 225.1, 159. , 76.4,  53.4,  39.9,  15. ,  22. ,  66.8, 132.9, 150. , 149.4,\n",
    "       148. ,  94.4,  97.6,  54.1,  49.2,  22.5,  18.4,  39.3, 131. , 220.1, 218.9, 198.9, 162.4,  91. ,  60.5,  20.6,  14.8,  33.9,\n",
    "       123. , 211.1, 191.8, 203.3, 133. ,  76.1,  44.9,  25.1,  11.6, 28.9,  88.3, 136.3, 173.9, 170.4, 163.6,  99.3,  65.3,  45.8,\n",
    "        24.7,  12.6,   4.2,   4.8,  24.9,  80.8,  84.5,  94. , 113.3, 69.8,  39.8,  21.7,   7. ,   3.6,   8.8])"
   ]
  },
  {
   "cell_type": "code",
   "execution_count": 10,
   "id": "f4ada190-7260-4b1e-b8e7-eb0f398a57fb",
   "metadata": {},
   "outputs": [
    {
     "data": {
      "text/plain": [
       "321"
      ]
     },
     "execution_count": 10,
     "metadata": {},
     "output_type": "execute_result"
    }
   ],
   "source": [
    "len(data)"
   ]
  },
  {
   "cell_type": "code",
   "execution_count": 12,
   "id": "2ff32d85-7715-4de0-8bb3-84b12e131bb2",
   "metadata": {},
   "outputs": [
    {
     "data": {
      "text/plain": [
       "321"
      ]
     },
     "execution_count": 12,
     "metadata": {},
     "output_type": "execute_result"
    }
   ],
   "source": [
    "len(sunspots)"
   ]
  },
  {
   "cell_type": "code",
   "execution_count": 14,
   "id": "a5be262d-6e4f-4cd4-804f-84753362834c",
   "metadata": {},
   "outputs": [],
   "source": [
    "import matplotlib.pyplot as plt\n"
   ]
  },
  {
   "cell_type": "code",
   "execution_count": 16,
   "id": "c2c741c3-ad54-44d7-bc3c-e1fa2b876fed",
   "metadata": {},
   "outputs": [
    {
     "data": {
      "image/png": "[encoded data removed]",
      "text/plain": [
       "<Figure size 432x288 with 1 Axes>"
      ]
     },
     "metadata": {
      "needs_background": "light"
     },
     "output_type": "display_data"
    }
   ],
   "source": [
    "plt.plot(years,sunspots)\n",
    "plt.show()"
   ]
  },
  {
   "cell_type": "code",
   "execution_count": 31,
   "id": "1baeebe4-f084-40db-bf84-13000a554901",
   "metadata": {},
   "outputs": [
    {
     "name": "stdout",
     "output_type": "stream",
     "text": [
      "\n",
      "To έτος 1711 παρατηρήθηκαν οι λιγότερες κηλίδες, για την ακρίβεια παρατηρήθηκαν 0 κηλίδες.\n",
      "\n",
      "To έτος 1957 παρατηρήθηκαν οι περισσότερες κηλίδες, για την ακρίβεια παρατηρήθηκαν 269 κηλίδες.\n"
     ]
    }
   ],
   "source": [
    "maxSn = 0\n",
    "minSn = 1e5\n",
    "i=0\n",
    "while i<len(years):\n",
    "    if sunspots[i]>=maxSn:\n",
    "        maxSn=sunspots[i]\n",
    "    if sunspots[i]<=minSn:\n",
    "        minSn=sunspots[i]\n",
    "    i+=1\n",
    "print('\\nTo έτος %i παρατηρήθηκαν οι λιγότερες κηλίδες, για την ακρίβεια παρατηρήθηκαν %i κηλίδες.'%(years[sunspots.index(minSn)],minSn))\n",
    "print('\\nTo έτος %i παρατηρήθηκαν οι περισσότερες κηλίδες, για την ακρίβεια παρατηρήθηκαν %i κηλίδες.'%(years[sunspots.index(maxSn)],maxSn))"
   ]
  },
  {
   "cell_type": "code",
   "execution_count": 32,
   "id": "f6431d23-9aa0-46b2-a6ac-82b6a61e6562",
   "metadata": {},
   "outputs": [
    {
     "name": "stdout",
     "output_type": "stream",
     "text": [
      "\n",
      "To έτος 1823 παρατηρήθηκαν οι λιγότερες κηλίδες, για την ακρίβεια παρατηρήθηκαν 2 κηλίδες.\n"
     ]
    }
   ],
   "source": [
    "minSn = 1e5\n",
    "i=0\n",
    "while i<len(years):\n",
    "    if 0<sunspots[i]<=minSn:\n",
    "        minSn=sunspots[i]\n",
    "    i+=1\n",
    "print('\\nTo έτος %i παρατηρήθηκαν οι λιγότερες κηλίδες, για την ακρίβεια παρατηρήθηκαν %i κηλίδες.'%(years[sunspots.index(minSn)],minSn))"
   ]
  },
  {
   "cell_type": "code",
   "execution_count": null,
   "id": "2d99c937-40e9-458f-85f4-5be207279b11",
   "metadata": {},
   "outputs": [],
   "source": []
  },
  {
   "cell_type": "code",
   "execution_count": 35,
   "id": "941afc0b-f2f7-43c7-9524-fade38c7fdd9",
   "metadata": {},
   "outputs": [
    {
     "data": {
      "text/plain": [
       "29.181818181818183"
      ]
     },
     "execution_count": 35,
     "metadata": {},
     "output_type": "execute_result"
    }
   ],
   "source": [
    "len(years)/11"
   ]
  }
 ],
 "metadata": {
  "kernelspec": {
   "display_name": "Python 3",
   "language": "python",
   "name": "python3"
  },
  "language_info": {
   "codemirror_mode": {
    "name": "ipython",
    "version": 3
   },
   "file_extension": ".py",
   "mimetype": "text/x-python",
   "name": "python",
   "nbconvert_exporter": "python",
   "pygments_lexer": "ipython3",
   "version": "3.6.13"
  }
 },
 "nbformat": 4,
 "nbformat_minor": 5
}
